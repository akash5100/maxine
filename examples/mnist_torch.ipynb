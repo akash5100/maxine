{
 "cells": [
  {
   "cell_type": "code",
   "execution_count": 19,
   "metadata": {},
   "outputs": [],
   "source": [
    "import torch\n",
    "from fastai.vision.all import URLs, untar_data"
   ]
  },
  {
   "cell_type": "code",
   "execution_count": 20,
   "metadata": {},
   "outputs": [],
   "source": [
    "path = untar_data(URLs.MNIST)"
   ]
  },
  {
   "cell_type": "code",
   "execution_count": 21,
   "metadata": {},
   "outputs": [
    {
     "data": {
      "text/plain": [
       "(#2) [Path('/home/akash/.fastai/data/mnist_png/training'),Path('/home/akash/.fastai/data/mnist_png/testing')]"
      ]
     },
     "execution_count": 21,
     "metadata": {},
     "output_type": "execute_result"
    }
   ],
   "source": [
    "(path).ls()"
   ]
  },
  {
   "cell_type": "code",
   "execution_count": 113,
   "metadata": {},
   "outputs": [
    {
     "ename": "TypeError",
     "evalue": "only integer scalar arrays can be converted to a scalar index",
     "output_type": "error",
     "traceback": [
      "\u001b[0;31m---------------------------------------------------------------------------\u001b[0m",
      "\u001b[0;31mTypeError\u001b[0m                                 Traceback (most recent call last)",
      "\u001b[1;32m/home/akash/Workspace/public/nn/examples/mnist_torch.ipynb Cell 4\u001b[0m line \u001b[0;36m5\n\u001b[1;32m     <a href='vscode-notebook-cell:/home/akash/Workspace/public/nn/examples/mnist_torch.ipynb#W2sZmlsZQ%3D%3D?line=45'>46</a>\u001b[0m         \u001b[39mif\u001b[39;00m \u001b[39mnot\u001b[39;00m \u001b[39mself\u001b[39m\u001b[39m.\u001b[39mx_val \u001b[39mand\u001b[39;00m \u001b[39mnot\u001b[39;00m \u001b[39mself\u001b[39m\u001b[39m.\u001b[39my_val: \u001b[39mreturn\u001b[39;00m \u001b[39mNone\u001b[39;00m\n\u001b[1;32m     <a href='vscode-notebook-cell:/home/akash/Workspace/public/nn/examples/mnist_torch.ipynb#W2sZmlsZQ%3D%3D?line=46'>47</a>\u001b[0m         \u001b[39mreturn\u001b[39;00m \u001b[39mlist\u001b[39m(\u001b[39mzip\u001b[39m(\u001b[39mself\u001b[39m\u001b[39m.\u001b[39mx_val, \u001b[39mself\u001b[39m\u001b[39m.\u001b[39my_val))\n\u001b[0;32m---> <a href='vscode-notebook-cell:/home/akash/Workspace/public/nn/examples/mnist_torch.ipynb#W2sZmlsZQ%3D%3D?line=49'>50</a>\u001b[0m dls \u001b[39m=\u001b[39m DataLoaders(path\u001b[39m=\u001b[39;49mpath, train\u001b[39m=\u001b[39;49m\u001b[39m'\u001b[39;49m\u001b[39mtraining\u001b[39;49m\u001b[39m'\u001b[39;49m, valid\u001b[39m=\u001b[39;49m\u001b[39m'\u001b[39;49m\u001b[39mtesting\u001b[39;49m\u001b[39m'\u001b[39;49m)\n",
      "\u001b[1;32m/home/akash/Workspace/public/nn/examples/mnist_torch.ipynb Cell 4\u001b[0m line \u001b[0;36m1\n\u001b[1;32m      <a href='vscode-notebook-cell:/home/akash/Workspace/public/nn/examples/mnist_torch.ipynb#W2sZmlsZQ%3D%3D?line=8'>9</a>\u001b[0m \u001b[39mself\u001b[39m\u001b[39m.\u001b[39mbatch_size \u001b[39m=\u001b[39m batch_size\n\u001b[1;32m     <a href='vscode-notebook-cell:/home/akash/Workspace/public/nn/examples/mnist_torch.ipynb#W2sZmlsZQ%3D%3D?line=9'>10</a>\u001b[0m \u001b[39mself\u001b[39m\u001b[39m.\u001b[39mshuffle \u001b[39m=\u001b[39m shuffle\n\u001b[0;32m---> <a href='vscode-notebook-cell:/home/akash/Workspace/public/nn/examples/mnist_torch.ipynb#W2sZmlsZQ%3D%3D?line=10'>11</a>\u001b[0m \u001b[39mself\u001b[39m\u001b[39m.\u001b[39mX_train, \u001b[39mself\u001b[39m\u001b[39m.\u001b[39mY_train \u001b[39m=\u001b[39m \u001b[39mself\u001b[39;49m\u001b[39m.\u001b[39;49mload_from_folder(directory\u001b[39m=\u001b[39;49m\u001b[39mself\u001b[39;49m\u001b[39m.\u001b[39;49mtrain_path)\n\u001b[1;32m     <a href='vscode-notebook-cell:/home/akash/Workspace/public/nn/examples/mnist_torch.ipynb#W2sZmlsZQ%3D%3D?line=11'>12</a>\u001b[0m \u001b[39mself\u001b[39m\u001b[39m.\u001b[39mX_valid, \u001b[39mself\u001b[39m\u001b[39m.\u001b[39mY_valid \u001b[39m=\u001b[39m \u001b[39mself\u001b[39m\u001b[39m.\u001b[39mload_from_folder(directory\u001b[39m=\u001b[39m\u001b[39mself\u001b[39m\u001b[39m.\u001b[39mvalid_path)\n",
      "\u001b[1;32m/home/akash/Workspace/public/nn/examples/mnist_torch.ipynb Cell 4\u001b[0m line \u001b[0;36m3\n\u001b[1;32m     <a href='vscode-notebook-cell:/home/akash/Workspace/public/nn/examples/mnist_torch.ipynb#W2sZmlsZQ%3D%3D?line=30'>31</a>\u001b[0m     np\u001b[39m.\u001b[39mrandom\u001b[39m.\u001b[39mshuffle(indices)\n\u001b[1;32m     <a href='vscode-notebook-cell:/home/akash/Workspace/public/nn/examples/mnist_torch.ipynb#W2sZmlsZQ%3D%3D?line=31'>32</a>\u001b[0m     indices \u001b[39m=\u001b[39m indices\u001b[39m.\u001b[39mflatten()\n\u001b[0;32m---> <a href='vscode-notebook-cell:/home/akash/Workspace/public/nn/examples/mnist_torch.ipynb#W2sZmlsZQ%3D%3D?line=32'>33</a>\u001b[0m     X_data, Y_data \u001b[39m=\u001b[39m X_data[indices], Y_data[indices]\n\u001b[1;32m     <a href='vscode-notebook-cell:/home/akash/Workspace/public/nn/examples/mnist_torch.ipynb#W2sZmlsZQ%3D%3D?line=33'>34</a>\u001b[0m \u001b[39mreturn\u001b[39;00m X_data, Y_data\n",
      "\u001b[0;31mTypeError\u001b[0m: only integer scalar arrays can be converted to a scalar index"
     ]
    }
   ],
   "source": [
    "import os\n",
    "import numpy as np\n",
    "\n",
    "class DataLoaders:\n",
    "    def __init__(self, path, train: str, valid:str, batch_size:int = 250, shuffle=True) -> None:\n",
    "        self.path = path\n",
    "        self.train_path = os.path.join(path, train)\n",
    "        self.valid_path = os.path.join(path, valid)\n",
    "        self.batch_size = batch_size\n",
    "        self.shuffle = shuffle\n",
    "        self.X_train, self.Y_train = self.load_from_folder(directory=self.train_path)\n",
    "        self.X_valid, self.Y_valid = self.load_from_folder(directory=self.valid_path)\n",
    "\n",
    "    def load_from_folder(self, directory):\n",
    "        from PIL import Image\n",
    "        classes = os.listdir(path=directory) # 0-9\n",
    "        X_data, Y_data = [], []\n",
    "\n",
    "        for idx, cls_name in enumerate(classes):\n",
    "            cls_path = os.path.join(directory, cls_name)\n",
    "            imgs = os.listdir(cls_path)\n",
    "            for img_name in imgs:\n",
    "                img_path = os.path.join(cls_path, img_name)\n",
    "                with Image.open(img_path) as img:\n",
    "                    img = img.resize((28,28))\n",
    "                    img = np.array(img, dtype=np.uint8)\n",
    "                    X_data.append(img) # add image\n",
    "                    Y_data.append(idx) # add label\n",
    "        if self.shuffle:\n",
    "            indices = np.arange(len(X_data))\n",
    "            np.random.shuffle(indices)\n",
    "            indices = indices.flatten()\n",
    "            X_data, Y_data = X_data[indices], Y_data[indices]\n",
    "        return X_data, Y_data\n",
    "\n",
    "    def __len__(self):\n",
    "        \"\"\"Returns total number of data in single batch.\"\"\"\n",
    "        if not self.X_train: raise(\"Data not loaded yet\")\n",
    "        return len(self.X_train) // self.batch_size\n",
    "\n",
    "    def __str__(self):\n",
    "        train_data = list(zip(self.x_train, self.y_train))\n",
    "        return f\"{train_data}\"\n",
    "\n",
    "    def get_validation_data(self):\n",
    "        if not self.x_val and not self.y_val: return None\n",
    "        return list(zip(self.x_val, self.y_val))\n",
    "\n",
    "\n",
    "dls = DataLoaders(path=path, train='training', valid='testing')"
   ]
  }
 ],
 "metadata": {
  "kernelspec": {
   "display_name": "nn",
   "language": "python",
   "name": "python3"
  },
  "language_info": {
   "codemirror_mode": {
    "name": "ipython",
    "version": 3
   },
   "file_extension": ".py",
   "mimetype": "text/x-python",
   "name": "python",
   "nbconvert_exporter": "python",
   "pygments_lexer": "ipython3",
   "version": "3.10.0"
  },
  "orig_nbformat": 4
 },
 "nbformat": 4,
 "nbformat_minor": 2
}
