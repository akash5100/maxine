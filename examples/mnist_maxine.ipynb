{
 "cells": [
  {
   "cell_type": "code",
   "execution_count": 1,
   "metadata": {},
   "outputs": [
    {
     "data": {
      "text/plain": [
       "(#2) [Path('/home/akzsh/.fastai/data/mnist_png/training'),Path('/home/akzsh/.fastai/data/mnist_png/testing')]"
      ]
     },
     "execution_count": 1,
     "metadata": {},
     "output_type": "execute_result"
    }
   ],
   "source": [
    "import torch\n",
    "from fastai.vision.all import URLs, untar_data\n",
    "\n",
    "path = untar_data(URLs.MNIST)\n",
    "(path).ls()"
   ]
  },
  {
   "cell_type": "markdown",
   "metadata": {},
   "source": [
    "# loading data in nparray"
   ]
  },
  {
   "cell_type": "code",
   "execution_count": 4,
   "metadata": {},
   "outputs": [
    {
     "name": "stderr",
     "output_type": "stream",
     "text": [
      "Classes: 100%|██████████| 10/10 [00:09<00:00,  1.11class/s]\n",
      "Classes: 100%|██████████| 10/10 [00:01<00:00,  6.75class/s]\n"
     ]
    }
   ],
   "source": [
    "import os\n",
    "import numpy as np\n",
    "from tqdm import tqdm\n",
    "\n",
    "class DataLoaders:\n",
    "    def __init__(\n",
    "            self, path, train: str, valid:str,\n",
    "            batch_size:int = 64,\n",
    "            shuffle: bool = True,\n",
    "        ) -> None:\n",
    "        self.path = path\n",
    "        self.train_path = os.path.join(path, train)\n",
    "        self.valid_path = os.path.join(path, valid)\n",
    "        self.batch_size = batch_size\n",
    "        self.shuffle = shuffle\n",
    "        self.X_train, self.Y_train = self.load_from_folder(directory=self.train_path)\n",
    "        self.X_valid, self.Y_valid = self.load_from_folder(directory=self.valid_path)\n",
    "\n",
    "    def __len__(self):\n",
    "        \"\"\"Returns total number of data in single batch.\"\"\"\n",
    "        if not self.X_train: raise(\"Data not loaded yet\")\n",
    "        return len(self.X_train) // self.batch_size\n",
    "\n",
    "    def __str__(self):\n",
    "        train_data = list(zip(self.x_train, self.y_train))\n",
    "        return f\"{train_data}\"\n",
    "\n",
    "    def load_from_folder(self, directory):\n",
    "        from PIL import Image\n",
    "        classes = os.listdir(path=directory)\n",
    "        X_data, Y_data = [], []\n",
    "\n",
    "        with tqdm(classes, desc='Classes', unit='class') as pbar_classes:\n",
    "            for idx, cls_name in enumerate(pbar_classes):\n",
    "                cls_path = os.path.join(directory, cls_name) # mnist/training/5\n",
    "                imgs = os.listdir(cls_path) # number of images\n",
    "                for img_name in imgs:\n",
    "                    img_path = os.path.join(cls_path, img_name)\n",
    "                    with Image.open(img_path) as img:\n",
    "                        img = img.resize((28,28))\n",
    "                        img = np.array(img, dtype=np.uint8)\n",
    "                        X_data.append(img) # add image\n",
    "                        Y_data.append(idx) # add label\n",
    "            pbar_classes.update(1)\n",
    "        X_data, Y_data = np.array(X_data), np.array(Y_data)\n",
    "        if self.shuffle:\n",
    "            indices = np.arange(len(X_data))\n",
    "            np.random.shuffle(indices)\n",
    "            X_data, Y_data = X_data[indices], Y_data[indices]\n",
    "        return X_data, Y_data\n",
    "\n",
    "    def get_validation_data(self):\n",
    "        if not self.x_val and not self.y_val: return None\n",
    "        return list(zip(self.x_val, self.y_val))\n",
    "\n",
    "\n",
    "dls = DataLoaders(path=path, train='training', valid='testing')"
   ]
  },
  {
   "cell_type": "markdown",
   "metadata": {},
   "source": [
    "We have `X_train`, `Y_train` & `X_valid`, `Y_valid`\n",
    "\n",
    "Flatten those and pass into a layer, lets say 784 x 392 -> 392 x 10\n",
    "\n",
    "it should give an output (logits)-- 10 in length.\n",
    "\n",
    "logits -> softmax -> predictions\n",
    "\n",
    "    1. predictions -> cross_entropy_loss -> loss\n",
    "        also `accuracy`\n",
    "    2. calculate gradient (backward)\n",
    "    3. step\n",
    "    4. repeat"
   ]
  },
  {
   "cell_type": "markdown",
   "metadata": {},
   "source": [
    "# training a simple net in pytorch"
   ]
  },
  {
   "cell_type": "code",
   "execution_count": 5,
   "metadata": {},
   "outputs": [],
   "source": [
    "import matplotlib.pyplot as plt"
   ]
  },
  {
   "cell_type": "code",
   "execution_count": 6,
   "metadata": {},
   "outputs": [],
   "source": [
    "import torch.nn as nn\n",
    "import torch.nn.functional as F\n",
    "\n",
    "class simplenet(nn.Module):\n",
    "    def __init__(self):\n",
    "        super(simplenet, self).__init__()\n",
    "        self.ih = nn.Linear(784, 392)\n",
    "        self.ho = nn.Linear(392, 10)\n",
    "        self.sm = nn.LogSoftmax(dim=1)\n",
    "    def forward(self, x):\n",
    "        x = F.relu(self.ih(x))\n",
    "        x = self.ho(x)\n",
    "        return self.sm(x)"
   ]
  },
  {
   "cell_type": "code",
   "execution_count": 7,
   "metadata": {},
   "outputs": [
    {
     "data": {
      "text/plain": [
       "((60000, 28, 28), (60000,))"
      ]
     },
     "execution_count": 7,
     "metadata": {},
     "output_type": "execute_result"
    }
   ],
   "source": [
    "model = simplenet()\n",
    "\n",
    "x = dls.X_train\n",
    "y = dls.Y_train\n",
    "x.shape, y.shape"
   ]
  },
  {
   "cell_type": "code",
   "execution_count": 9,
   "metadata": {},
   "outputs": [
    {
     "name": "stderr",
     "output_type": "stream",
     "text": [
      "loss: 0.19 accuracy: 0.94: 100%|██████████| 200/200 [00:20<00:00,  9.75it/s]\n"
     ]
    }
   ],
   "source": [
    "from tqdm import trange\n",
    "loss_func = nn.NLLLoss(reduction='none')\n",
    "optim = torch.optim.SGD(model.parameters(), lr=0.01)\n",
    "bs = 6000 # increasing bs results in overfitting\n",
    "\n",
    "losses, accuracies = [], []\n",
    "t = trange(200)\n",
    "\n",
    "\n",
    "for i in t:\n",
    "    samp = np.random.randint(0, x.shape[0], size=bs)\n",
    "    X = torch.tensor(x[samp].reshape(-1, 28*28)).float()\n",
    "    Y = torch.tensor(y[samp]).long()\n",
    "    model.zero_grad()\n",
    "    out = model(X)\n",
    "    cat = torch.argmax(out, dim=-1)\n",
    "    acc = (cat == Y).float().mean()\n",
    "    loss = loss_func(out, Y)\n",
    "    loss = loss.mean()\n",
    "    loss.backward()\n",
    "    optim.step()\n",
    "    loss, acc = loss.item(), acc.item()\n",
    "    losses.append(loss); accuracies.append(acc)\n",
    "    t.set_description(f'loss: {losses[-1]:.2f} accuracy: {accuracies[-1]:.2f}')"
   ]
  },
  {
   "cell_type": "code",
   "execution_count": 10,
   "metadata": {},
   "outputs": [
    {
     "data": {
      "text/plain": [
       "[<matplotlib.lines.Line2D at 0x7fe309d04550>]"
      ]
     },
     "execution_count": 10,
     "metadata": {},
     "output_type": "execute_result"
    },
    {
     "data": {
      "image/png": "[encoded data removed]",
      "text/plain": [
       "<Figure size 640x480 with 1 Axes>"
      ]
     },
     "metadata": {},
     "output_type": "display_data"
    }
   ],
   "source": [
    "plt.ylim(0, 1)\n",
    "plt.plot(losses)\n",
    "plt.plot(accuracies)"
   ]
  },
  {
   "cell_type": "markdown",
   "metadata": {},
   "source": [
    "# Testing the result of pytorch model in validation dataset"
   ]
  },
  {
   "cell_type": "code",
   "execution_count": null,
   "metadata": {},
   "outputs": [],
   "source": [
    "dls.X_valid.reshape(10000, -1).shape, dls.Y_valid.shape"
   ]
  },
  {
   "cell_type": "code",
   "execution_count": null,
   "metadata": {},
   "outputs": [],
   "source": [
    "XV = dls.X_valid.reshape(10000, -1)\n",
    "YV = dls.Y_valid\n",
    "\n",
    "with torch.no_grad():\n",
    "    xv = torch.tensor(XV).float()\n",
    "    yv = torch.tensor(YV).long()\n",
    "    out = model(xv)\n",
    "    print(out.shape)\n",
    "    cat = torch.argmax(out, dim=-1)\n",
    "    print(cat[:10])\n",
    "    print(yv[:10])\n",
    "    vacs = (cat == yv).float().mean()\n",
    "    print(vacs)"
   ]
  },
  {
   "cell_type": "markdown",
   "metadata": {},
   "source": [
    "# 94% accuracy\n",
    "\n",
    "\n",
    "\n",
    "--------------------------"
   ]
  },
  {
   "cell_type": "markdown",
   "metadata": {},
   "source": [
    "# MAXINE"
   ]
  },
  {
   "cell_type": "markdown",
   "metadata": {},
   "source": [
    "# Training the same data on Maxine, same architecture"
   ]
  },
  {
   "cell_type": "code",
   "execution_count": 11,
   "metadata": {},
   "outputs": [],
   "source": [
    "from maxine import nn as N\n",
    "from maxine.torch_imports import np\n",
    "\n",
    "import tqdm\n",
    "import matplotlib.pyplot as plt\n",
    "\n",
    "import torch.nn as nn\n",
    "import torch.nn.functional as F"
   ]
  },
  {
   "cell_type": "code",
   "execution_count": 12,
   "metadata": {},
   "outputs": [],
   "source": [
    "class maxinet(N.Module):\n",
    "    def __init__(self):\n",
    "        super(maxinet, self).__init__()\n",
    "        self.ih = N.Linear(784, 392)      # bs x 392\n",
    "        self.ho = N.Linear(392, 10)       # bs x 10\n",
    "        self.sm = nn.LogSoftmax(dim=1)    # bs x 10 (logsoftmax)\n",
    "\n",
    "    def forward(self, x):\n",
    "        x = F.relu(self.ih.forward(x))    # x -> ih -> relu\n",
    "        x = self.ho.forward(x)            # - -> ho ->\n",
    "        return self.sm(x)                 # - -> logsoftmax\n",
    "\n",
    "    def parameters(self):\n",
    "        params = []\n",
    "        for layer in [self.ih, self.ho]: params.extend(layer.parameters())\n",
    "        return params\n",
    "    \n",
    "    def zero_grad(self):\n",
    "        for layer in [self.ih, self.ho]: layer.zero_grad()"
   ]
  },
  {
   "cell_type": "code",
   "execution_count": 13,
   "metadata": {},
   "outputs": [
    {
     "data": {
      "text/plain": [
       "(torch.Size([60000, 784]), torch.Size([60000]))"
      ]
     },
     "execution_count": 13,
     "metadata": {},
     "output_type": "execute_result"
    }
   ],
   "source": [
    "x, y = dls.X_train, dls.Y_train\n",
    "x = torch.tensor(x).view(x.shape[0], -1).float()\n",
    "y = torch.tensor(y).long()\n",
    "\n",
    "x.shape, y.shape"
   ]
  },
  {
   "cell_type": "code",
   "execution_count": 14,
   "metadata": {},
   "outputs": [
    {
     "name": "stdout",
     "output_type": "stream",
     "text": [
      "<class 'torch.Tensor'>\n",
      "<class 'torch.Tensor'>\n",
      "<class 'torch.Tensor'>\n",
      "<class 'torch.Tensor'>\n"
     ]
    }
   ],
   "source": [
    "model2 = maxinet()\n",
    "p = model2.parameters()\n",
    "\n",
    "for i in p:\n",
    "    print(type(i))"
   ]
  },
  {
   "cell_type": "code",
   "execution_count": 17,
   "metadata": {},
   "outputs": [
    {
     "name": "stderr",
     "output_type": "stream",
     "text": [
      "loss: 1.96 accuracy: 0.22: 100%|██████████| 20000/20000 [32:40<00:00, 10.20it/s]\n"
     ]
    }
   ],
   "source": [
    "from maxine.optim import SDG\n",
    "\n",
    "EPOCH = 20000\n",
    "bs = 6000 # increasing bs results in overfitting\n",
    "\n",
    "losses, accuracies = [], []\n",
    "t = tqdm.trange(EPOCH)\n",
    "\n",
    "model2 = maxinet()\n",
    "optim = SDG(model2.parameters(), 0.01)\n",
    "loss_func = nn.CrossEntropyLoss()\n",
    "\n",
    "\n",
    "for i in t:\n",
    "    samp = np.random.randint(0, x.shape[0], size=bs)\n",
    "    X = x[samp]\n",
    "    Y = y[samp]\n",
    "    model2.zero_grad()\n",
    "    out = model2.forward(X)\n",
    "    cat = torch.argmax(out, dim=-1)\n",
    "    acc = (cat == Y).float().mean()\n",
    "    loss = loss_func(out, Y)\n",
    "    loss = loss.mean()\n",
    "    loss.backward()\n",
    "    optim.step()\n",
    "    loss, acc = loss.item(), acc.item()\n",
    "    losses.append(loss); accuracies.append(acc)\n",
    "    t.set_description(f'loss: {losses[-1]:.2f} accuracy: {accuracies[-1]:.2f}')"
   ]
  },
  {
   "cell_type": "code",
   "execution_count": 18,
   "metadata": {},
   "outputs": [
    {
     "data": {
      "text/plain": [
       "[<matplotlib.lines.Line2D at 0x7fe308d549d0>]"
      ]
     },
     "execution_count": 18,
     "metadata": {},
     "output_type": "execute_result"
    },
    {
     "data": {
      "image/png": "[encoded data removed]",
      "text/plain": [
       "<Figure size 640x480 with 1 Axes>"
      ]
     },
     "metadata": {},
     "output_type": "display_data"
    }
   ],
   "source": [
    "plt.ylim(0, 1)\n",
    "plt.plot(losses)\n",
    "plt.plot(accuracies)"
   ]
  },
  {
   "cell_type": "code",
   "execution_count": null,
   "metadata": {},
   "outputs": [],
   "source": []
  }
 ],
 "metadata": {
  "kernelspec": {
   "display_name": "nn",
   "language": "python",
   "name": "python3"
  },
  "language_info": {
   "codemirror_mode": {
    "name": "ipython",
    "version": 3
   },
   "file_extension": ".py",
   "mimetype": "text/x-python",
   "name": "python",
   "nbconvert_exporter": "python",
   "pygments_lexer": "ipython3",
   "version": "3.10.12"
  },
  "orig_nbformat": 4
 },
 "nbformat": 4,
 "nbformat_minor": 2
}
