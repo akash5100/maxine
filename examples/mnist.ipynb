{
 "cells": [
  {
   "cell_type": "code",
   "execution_count": 1,
   "metadata": {},
   "outputs": [],
   "source": [
    "import torch\n",
    "from fastai.vision.all import URLs, untar_data"
   ]
  },
  {
   "cell_type": "code",
   "execution_count": 2,
   "metadata": {},
   "outputs": [],
   "source": [
    "path = untar_data(URLs.MNIST)"
   ]
  },
  {
   "cell_type": "code",
   "execution_count": 3,
   "metadata": {},
   "outputs": [
    {
     "data": {
      "text/plain": [
       "(#2) [Path('/home/akzsh/.fastai/data/mnist_png/training'),Path('/home/akzsh/.fastai/data/mnist_png/testing')]"
      ]
     },
     "execution_count": 3,
     "metadata": {},
     "output_type": "execute_result"
    }
   ],
   "source": [
    "(path).ls()"
   ]
  },
  {
   "cell_type": "markdown",
   "metadata": {},
   "source": [
    "# loading data in nparray"
   ]
  },
  {
   "cell_type": "code",
   "execution_count": 4,
   "metadata": {},
   "outputs": [],
   "source": [
    "import os\n",
    "import numpy as np\n",
    "\n",
    "class DataLoaders:\n",
    "    def __init__(\n",
    "            self, path, train: str, valid:str,\n",
    "            batch_size:int = 64,\n",
    "            shuffle: bool = True,\n",
    "        ) -> None:\n",
    "        self.path = path\n",
    "        self.train_path = os.path.join(path, train)\n",
    "        self.valid_path = os.path.join(path, valid)\n",
    "        self.batch_size = batch_size\n",
    "        self.shuffle = shuffle\n",
    "        self.X_train, self.Y_train = self.load_from_folder(directory=self.train_path)\n",
    "        self.X_valid, self.Y_valid = self.load_from_folder(directory=self.valid_path)\n",
    "\n",
    "    def load_from_folder(self, directory):\n",
    "        from PIL import Image\n",
    "        classes = os.listdir(path=directory)\n",
    "        X_data, Y_data = [], []\n",
    "\n",
    "        for idx, cls_name in enumerate(classes):\n",
    "            cls_path = os.path.join(directory, cls_name) # mnist/training/5\n",
    "            imgs = os.listdir(cls_path) # number of images\n",
    "            for img_name in imgs:\n",
    "                img_path = os.path.join(cls_path, img_name)\n",
    "                with Image.open(img_path) as img:\n",
    "                    img = img.resize((28,28))\n",
    "                    img = np.array(img, dtype=np.uint8)\n",
    "                    X_data.append(img) # add image\n",
    "                    Y_data.append(idx) # add label\n",
    "        X_data, Y_data = np.array(X_data), np.array(Y_data)\n",
    "        if self.shuffle:\n",
    "            indices = np.arange(len(X_data))\n",
    "            np.random.shuffle(indices)\n",
    "            X_data, Y_data = X_data[indices], Y_data[indices]\n",
    "        return X_data, Y_data\n",
    "\n",
    "    def __len__(self):\n",
    "        \"\"\"Returns total number of data in single batch.\"\"\"\n",
    "        if not self.X_train: raise(\"Data not loaded yet\")\n",
    "        return len(self.X_train) // self.batch_size\n",
    "\n",
    "    def __str__(self):\n",
    "        train_data = list(zip(self.x_train, self.y_train))\n",
    "        return f\"{train_data}\"\n",
    "\n",
    "    def get_validation_data(self):\n",
    "        if not self.x_val and not self.y_val: return None\n",
    "        return list(zip(self.x_val, self.y_val))\n",
    "\n",
    "\n",
    "dls = DataLoaders(path=path, train='training', valid='testing')"
   ]
  },
  {
   "cell_type": "code",
   "execution_count": 5,
   "metadata": {},
   "outputs": [
    {
     "data": {
      "text/plain": [
       "((60000, 28, 28), (60000,))"
      ]
     },
     "execution_count": 5,
     "metadata": {},
     "output_type": "execute_result"
    }
   ],
   "source": [
    "x = dls.X_train\n",
    "y = dls.Y_train\n",
    "x.shape, y.shape"
   ]
  },
  {
   "cell_type": "markdown",
   "metadata": {},
   "source": [
    "We have `X_train`, `Y_train` & `X_valid`, `Y_valid`\n",
    "\n",
    "Flatten those and pass into a layer, lets say 784 x 392 -> 392 x 10\n",
    "\n",
    "it should give an output (logits)-- 10 in length.\n",
    "\n",
    "logits -> softmax -> predictions\n",
    "\n",
    "    1. predictions -> cross_entropy_loss -> loss\n",
    "        also `accuracy`\n",
    "    2. calculate gradient (backward)\n",
    "    3. step\n",
    "    4. repeat"
   ]
  },
  {
   "cell_type": "markdown",
   "metadata": {},
   "source": [
    "# training a simple net in pytorch"
   ]
  },
  {
   "cell_type": "code",
   "execution_count": 6,
   "metadata": {},
   "outputs": [],
   "source": [
    "import torch.nn as nn\n",
    "import torch.nn.functional as F\n",
    "\n",
    "class simplenet(nn.Module):\n",
    "    def __init__(self):\n",
    "        super(simplenet, self).__init__()\n",
    "        self.ih = nn.Linear(784, 392)\n",
    "        self.ho = nn.Linear(392, 10)\n",
    "        self.sm = nn.LogSoftmax(dim=1)\n",
    "    def forward(self, x):\n",
    "        x = F.relu(self.ih(x))\n",
    "        x = self.ho(x)\n",
    "        return self.sm(x)"
   ]
  },
  {
   "cell_type": "code",
   "execution_count": 7,
   "metadata": {},
   "outputs": [],
   "source": [
    "model = simplenet()"
   ]
  },
  {
   "cell_type": "code",
   "execution_count": 8,
   "metadata": {},
   "outputs": [
    {
     "name": "stderr",
     "output_type": "stream",
     "text": [
      "loss: 0.19 accuracy: 0.95: 100%|██████████| 200/200 [00:17<00:00, 11.69it/s] \n"
     ]
    }
   ],
   "source": [
    "import matplotlib.pyplot as plt\n",
    "from maxine.torch_imports import torch, np\n",
    "import tqdm\n",
    "\n",
    "loss_func = nn.NLLLoss(reduction='none')\n",
    "optim = torch.optim.SGD(model.parameters(), lr=0.01)\n",
    "bs = 6000 # increasing bs results in overfitting\n",
    "\n",
    "losses, accuracies = [], []\n",
    "t = tqdm.trange(200)\n",
    "\n",
    "\n",
    "for i in t:\n",
    "    samp = np.random.randint(0, x.shape[0], size=bs)\n",
    "    X = torch.tensor(x[samp].reshape(-1, 28*28)).float()\n",
    "    Y = torch.tensor(y[samp]).long()\n",
    "    model.zero_grad()\n",
    "    out = model(X)\n",
    "    cat = torch.argmax(out, dim=-1)\n",
    "    acc = (cat == Y).float().mean()\n",
    "    loss = loss_func(out, Y)\n",
    "    loss = loss.mean()\n",
    "    loss.backward()\n",
    "    optim.step()\n",
    "    loss, acc = loss.item(), acc.item()\n",
    "    losses.append(loss); accuracies.append(acc)\n",
    "    t.set_description(f'loss: {losses[-1]:.2f} accuracy: {accuracies[-1]:.2f}')"
   ]
  },
  {
   "cell_type": "code",
   "execution_count": 9,
   "metadata": {},
   "outputs": [
    {
     "data": {
      "text/plain": [
       "[<matplotlib.lines.Line2D at 0x7fae854a9090>]"
      ]
     },
     "execution_count": 9,
     "metadata": {},
     "output_type": "execute_result"
    },
    {
     "data": {
      "image/png": "[encoded data removed]",
      "text/plain": [
       "<Figure size 640x480 with 1 Axes>"
      ]
     },
     "metadata": {},
     "output_type": "display_data"
    }
   ],
   "source": [
    "plt.ylim(0, 1)\n",
    "plt.plot(losses)\n",
    "plt.plot(accuracies)"
   ]
  },
  {
   "cell_type": "markdown",
   "metadata": {},
   "source": [
    "# Testing the result of pytorch model in validation dataset"
   ]
  },
  {
   "cell_type": "code",
   "execution_count": 10,
   "metadata": {},
   "outputs": [
    {
     "data": {
      "text/plain": [
       "((10000, 784), (10000,))"
      ]
     },
     "execution_count": 10,
     "metadata": {},
     "output_type": "execute_result"
    }
   ],
   "source": [
    "dls.X_valid.reshape(10000, -1).shape, dls.Y_valid.shape"
   ]
  },
  {
   "cell_type": "code",
   "execution_count": 11,
   "metadata": {},
   "outputs": [
    {
     "name": "stdout",
     "output_type": "stream",
     "text": [
      "torch.Size([10000, 10])\n",
      "tensor([4, 9, 0, 5, 7, 2, 1, 3, 7, 6])\n",
      "tensor([4, 9, 0, 5, 7, 2, 1, 3, 7, 6])\n",
      "tensor(0.9361)\n"
     ]
    }
   ],
   "source": [
    "XV = dls.X_valid.reshape(10000, -1)\n",
    "YV = dls.Y_valid\n",
    "\n",
    "with torch.no_grad():\n",
    "    xv = torch.tensor(XV).float()\n",
    "    yv = torch.tensor(YV).long()\n",
    "    out = model(xv)\n",
    "    print(out.shape)\n",
    "    cat = torch.argmax(out, dim=-1)\n",
    "    print(cat[:10])\n",
    "    print(yv[:10])\n",
    "    vacs = (cat == yv).float().mean()\n",
    "    print(vacs)"
   ]
  },
  {
   "cell_type": "markdown",
   "metadata": {},
   "source": [
    "# 94% accuracy"
   ]
  },
  {
   "cell_type": "markdown",
   "metadata": {},
   "source": [
    "# Training the same data on Maxine, same architecture"
   ]
  },
  {
   "cell_type": "code",
   "execution_count": 12,
   "metadata": {},
   "outputs": [],
   "source": [
    "from maxine.optim import BasicOptim\n",
    "\n",
    "optim = BasicOptim(model.parameters(), 0.01)"
   ]
  },
  {
   "cell_type": "code",
   "execution_count": 13,
   "metadata": {},
   "outputs": [],
   "source": [
    "#TODO"
   ]
  }
 ],
 "metadata": {
  "kernelspec": {
   "display_name": "nn",
   "language": "python",
   "name": "python3"
  },
  "language_info": {
   "codemirror_mode": {
    "name": "ipython",
    "version": 3
   },
   "file_extension": ".py",
   "mimetype": "text/x-python",
   "name": "python",
   "nbconvert_exporter": "python",
   "pygments_lexer": "ipython3",
   "version": "3.10.12"
  },
  "orig_nbformat": 4
 },
 "nbformat": 4,
 "nbformat_minor": 2
}
