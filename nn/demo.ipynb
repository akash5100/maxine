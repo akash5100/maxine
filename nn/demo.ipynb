{
 "cells": [
  {
   "cell_type": "code",
   "execution_count": 2,
   "metadata": {},
   "outputs": [],
   "source": [
    "import torch\n",
    "from fastai.vision.all import *"
   ]
  },
  {
   "cell_type": "code",
   "execution_count": 3,
   "metadata": {},
   "outputs": [],
   "source": [
    "path = untar_data(URLs.MNIST_SAMPLE)\n",
    "\n",
    "threes = (path / \"train\" / \"3\").ls().sorted()\n",
    "sevens = (path / \"train\" / \"7\").ls().sorted()\n",
    "\n",
    "# Training Image to tensors\n",
    "three_tensors = torch.stack(\n",
    "    [tensor(Image.open(o)) for o in (path / \"train\" / \"3\").ls()]\n",
    ")\n",
    "seven_tensors = torch.stack(\n",
    "    [tensor(Image.open(o)) for o in (path / \"train\" / \"7\").ls()]\n",
    ")\n",
    "valid_3_tens = torch.stack(\n",
    "    [tensor(Image.open(o)) for o in (path / \"valid\" / \"3\").ls()]\n",
    ")\n",
    "valid_7_tens = torch.stack(\n",
    "    [tensor(Image.open(o)) for o in (path / \"valid\" / \"7\").ls()]\n",
    ")\n",
    "\n",
    "# Normalize data\n",
    "stacked_threes = three_tensors.float() / 255\n",
    "stacked_sevens = seven_tensors.float() / 255\n",
    "valid_3_tens = valid_3_tens.float() / 255\n",
    "valid_7_tens = valid_7_tens.float() / 255"
   ]
  },
  {
   "cell_type": "code",
   "execution_count": 4,
   "metadata": {},
   "outputs": [],
   "source": [
    "BATCH = 256"
   ]
  },
  {
   "cell_type": "code",
   "execution_count": 5,
   "metadata": {},
   "outputs": [],
   "source": [
    "from nn.loader.dataloader import DataLoaders"
   ]
  },
  {
   "cell_type": "code",
   "execution_count": 6,
   "metadata": {},
   "outputs": [],
   "source": [
    "train_x = torch.cat([stacked_threes, stacked_sevens]).view(-1, 28 * 28)\n",
    "train_y = tensor([1] * len(threes) + [0] * len(sevens)).unsqueeze(1)\n",
    "\n",
    "valid_x = torch.cat([valid_3_tens, valid_7_tens]).view(-1, 28 * 28)\n",
    "valid_y = tensor([1] * len(valid_3_tens) + [0] * len(valid_7_tens)).unsqueeze(1)"
   ]
  },
  {
   "cell_type": "code",
   "execution_count": 8,
   "metadata": {},
   "outputs": [
    {
     "data": {
      "text/plain": [
       "(torch.Size([12396, 784]), torch.Size([12396, 1]))"
      ]
     },
     "execution_count": 8,
     "metadata": {},
     "output_type": "execute_result"
    }
   ],
   "source": [
    "train_x.size(), train_y.size()"
   ]
  },
  {
   "cell_type": "code",
   "execution_count": 9,
   "metadata": {},
   "outputs": [],
   "source": [
    "dls = DataLoaders(\n",
    "    x_train=train_x,\n",
    "    y_train=train_y,\n",
    "    batch_size=BATCH,\n",
    "    x_val=valid_x,\n",
    "    y_val=valid_y\n",
    ")"
   ]
  },
  {
   "cell_type": "code",
   "execution_count": 16,
   "metadata": {},
   "outputs": [],
   "source": [
    "from nn.learner.learner import Learner\n",
    "from nn.model.linear import MNISTModel"
   ]
  },
  {
   "cell_type": "code",
   "execution_count": 21,
   "metadata": {},
   "outputs": [],
   "source": [
    "learner = Learner(\n",
    "    dls=dls,\n",
    "    model=MNISTModel(28 * 28, lr=0.1),\n",
    "    )"
   ]
  },
  {
   "cell_type": "code",
   "execution_count": 22,
   "metadata": {},
   "outputs": [
    {
     "name": "stdout",
     "output_type": "stream",
     "text": [
      "Epoch 1/10, Validation Accuracy: 0.7659\n",
      "Epoch 2/10, Validation Accuracy: 0.8273\n",
      "Epoch 3/10, Validation Accuracy: 0.8724\n",
      "Epoch 4/10, Validation Accuracy: 0.8935\n",
      "Epoch 5/10, Validation Accuracy: 0.9048\n",
      "Epoch 6/10, Validation Accuracy: 0.9097\n",
      "Epoch 7/10, Validation Accuracy: 0.9151\n",
      "Epoch 8/10, Validation Accuracy: 0.9185\n",
      "Epoch 9/10, Validation Accuracy: 0.9230\n",
      "Epoch 10/10, Validation Accuracy: 0.9254\n"
     ]
    }
   ],
   "source": [
    "learner.fit(num_epochs=10)"
   ]
  }
 ],
 "metadata": {
  "kernelspec": {
   "display_name": "nn",
   "language": "python",
   "name": "python3"
  },
  "language_info": {
   "codemirror_mode": {
    "name": "ipython",
    "version": 3
   },
   "file_extension": ".py",
   "mimetype": "text/x-python",
   "name": "python",
   "nbconvert_exporter": "python",
   "pygments_lexer": "ipython3",
   "version": "3.10.0"
  },
  "orig_nbformat": 4
 },
 "nbformat": 4,
 "nbformat_minor": 2
}
